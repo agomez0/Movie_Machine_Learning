{
 "cells": [
  {
   "cell_type": "code",
   "execution_count": 1,
   "metadata": {},
   "outputs": [],
   "source": [
    "import pandas as pd\n",
    "import numpy as np\n",
    "import matplotlib.pyplot as plt\n",
    "\n",
    "# Reading ratings file\n",
    "# Ignore the timestamp column\n",
    "\n",
    "# Reading movies file\n",
    "df = pd.read_csv('../Resources/movie_metadata.csv',usecols=['movie_title', 'genres'])"
   ]
  },
  {
   "cell_type": "code",
   "execution_count": 2,
   "metadata": {},
   "outputs": [
    {
     "data": {
      "text/html": [
       "<div>\n",
       "<style scoped>\n",
       "    .dataframe tbody tr th:only-of-type {\n",
       "        vertical-align: middle;\n",
       "    }\n",
       "\n",
       "    .dataframe tbody tr th {\n",
       "        vertical-align: top;\n",
       "    }\n",
       "\n",
       "    .dataframe thead th {\n",
       "        text-align: right;\n",
       "    }\n",
       "</style>\n",
       "<table border=\"1\" class=\"dataframe\">\n",
       "  <thead>\n",
       "    <tr style=\"text-align: right;\">\n",
       "      <th></th>\n",
       "      <th>genres</th>\n",
       "      <th>movie_title</th>\n",
       "    </tr>\n",
       "  </thead>\n",
       "  <tbody>\n",
       "    <tr>\n",
       "      <th>0</th>\n",
       "      <td>['Action', 'Adventure', 'Fantasy', 'Sci-Fi']</td>\n",
       "      <td>Avatar</td>\n",
       "    </tr>\n",
       "    <tr>\n",
       "      <th>1</th>\n",
       "      <td>['Action', 'Adventure', 'Fantasy']</td>\n",
       "      <td>Pirates of the Caribbean: At World's End</td>\n",
       "    </tr>\n",
       "    <tr>\n",
       "      <th>2</th>\n",
       "      <td>['Action', 'Adventure', 'Thriller']</td>\n",
       "      <td>Spectre</td>\n",
       "    </tr>\n",
       "    <tr>\n",
       "      <th>3</th>\n",
       "      <td>['Action', 'Thriller']</td>\n",
       "      <td>The Dark Knight Rises</td>\n",
       "    </tr>\n",
       "    <tr>\n",
       "      <th>4</th>\n",
       "      <td>['Documentary']</td>\n",
       "      <td>Star Wars: Episode VII - The Force Awakens    ...</td>\n",
       "    </tr>\n",
       "  </tbody>\n",
       "</table>\n",
       "</div>"
      ],
      "text/plain": [
       "                                         genres  \\\n",
       "0  ['Action', 'Adventure', 'Fantasy', 'Sci-Fi']   \n",
       "1            ['Action', 'Adventure', 'Fantasy']   \n",
       "2           ['Action', 'Adventure', 'Thriller']   \n",
       "3                        ['Action', 'Thriller']   \n",
       "4                               ['Documentary']   \n",
       "\n",
       "                                         movie_title  \n",
       "0                                            Avatar   \n",
       "1          Pirates of the Caribbean: At World's End   \n",
       "2                                           Spectre   \n",
       "3                             The Dark Knight Rises   \n",
       "4  Star Wars: Episode VII - The Force Awakens    ...  "
      ]
     },
     "execution_count": 2,
     "metadata": {},
     "output_type": "execute_result"
    }
   ],
   "source": [
    "# Break up the big genre string into a string array\n",
    "df['genres'] = df['genres'].str.split('|')\n",
    "# Convert genres to string value\n",
    "df['genres'] = df['genres'].fillna(\"\").astype('str')\n",
    "df.head()"
   ]
  },
  {
   "cell_type": "code",
   "execution_count": 3,
   "metadata": {},
   "outputs": [
    {
     "data": {
      "text/plain": [
       "(5043, 206)"
      ]
     },
     "execution_count": 3,
     "metadata": {},
     "output_type": "execute_result"
    }
   ],
   "source": [
    "from sklearn.feature_extraction.text import TfidfVectorizer\n",
    "tf = TfidfVectorizer(analyzer='word',ngram_range=(1, 2),min_df=0, stop_words='english')\n",
    "tfidf_matrix = tf.fit_transform(df['genres'])\n",
    "tfidf_matrix.shape"
   ]
  },
  {
   "cell_type": "code",
   "execution_count": 4,
   "metadata": {},
   "outputs": [
    {
     "data": {
      "text/plain": [
       "array([[1.        , 0.71772763, 0.29121259, 0.0816324 ],\n",
       "       [0.71772763, 1.        , 0.40574248, 0.11373729],\n",
       "       [0.29121259, 0.40574248, 1.        , 0.20751026],\n",
       "       [0.0816324 , 0.11373729, 0.20751026, 1.        ]])"
      ]
     },
     "execution_count": 4,
     "metadata": {},
     "output_type": "execute_result"
    }
   ],
   "source": [
    "from sklearn.metrics.pairwise import linear_kernel\n",
    "cosine_sim = linear_kernel(tfidf_matrix, tfidf_matrix)\n",
    "cosine_sim[:4, :4]"
   ]
  },
  {
   "cell_type": "code",
   "execution_count": 5,
   "metadata": {},
   "outputs": [],
   "source": [
    "# Build a 1-dimensional array with movie titles\n",
    "titles = df['movie_title']\n",
    "indices = pd.Series(df.index, index=df['movie_title'])\n",
    "\n",
    "# Function that get movie recommendations based on the cosine similarity score of movie genres\n",
    "def genre_recommendations(title):\n",
    "    newtitle = title + '\\xa0'\n",
    "    idx = indices[newtitle]\n",
    "    sim_scores = list(enumerate(cosine_sim[idx]))\n",
    "    sim_scores = sorted(sim_scores, key=lambda x: x[1], reverse=True)\n",
    "    sim_scores = sim_scores[1:21]\n",
    "    movie_indices = [i[0] for i in sim_scores]\n",
    "    return titles.iloc[movie_indices]"
   ]
  },
  {
   "cell_type": "code",
   "execution_count": 6,
   "metadata": {},
   "outputs": [
    {
     "data": {
      "text/plain": [
       "15                                        Man of Steel \n",
       "39                            The Amazing Spider-Man 2 \n",
       "236       Star Wars: Episode III - Revenge of the Sith \n",
       "237       Star Wars: Episode II - Attack of the Clones \n",
       "240          Star Wars: Episode I - The Phantom Menace \n",
       "520              The League of Extraordinary Gentlemen \n",
       "1536        Star Wars: Episode VI - Return of the Jedi \n",
       "2051    Star Wars: Episode V - The Empire Strikes Back \n",
       "2687                               Highlander: Endgame \n",
       "3024                Star Wars: Episode IV - A New Hope \n",
       "3634         Beastmaster 2: Through the Portal of Time \n",
       "4690                                           Destiny \n",
       "34                               X-Men: The Last Stand \n",
       "47                          X-Men: Days of Future Past \n",
       "123                           X-Men Origins: Wolverine \n",
       "210                                            X-Men 2 \n",
       "769                                      Reign of Fire \n",
       "1145                             Underworld: Evolution \n",
       "1432                    Underworld: Rise of the Lycans \n",
       "1660                       Mortal Kombat: Annihilation \n",
       "Name: movie_title, dtype: object"
      ]
     },
     "execution_count": 6,
     "metadata": {},
     "output_type": "execute_result"
    }
   ],
   "source": [
    "genre_recommendations('Avatar').head(20)"
   ]
  },
  {
   "cell_type": "code",
   "execution_count": null,
   "metadata": {},
   "outputs": [],
   "source": []
  },
  {
   "cell_type": "code",
   "execution_count": 1,
   "metadata": {},
   "outputs": [
    {
     "data": {
      "text/html": [
       "<div>\n",
       "<style scoped>\n",
       "    .dataframe tbody tr th:only-of-type {\n",
       "        vertical-align: middle;\n",
       "    }\n",
       "\n",
       "    .dataframe tbody tr th {\n",
       "        vertical-align: top;\n",
       "    }\n",
       "\n",
       "    .dataframe thead th {\n",
       "        text-align: right;\n",
       "    }\n",
       "</style>\n",
       "<table border=\"1\" class=\"dataframe\">\n",
       "  <thead>\n",
       "    <tr style=\"text-align: right;\">\n",
       "      <th></th>\n",
       "      <th>movieID</th>\n",
       "      <th>name</th>\n",
       "      <th>total_votes</th>\n",
       "      <th>rating</th>\n",
       "      <th>duration</th>\n",
       "      <th>gross_earnings</th>\n",
       "      <th>genre</th>\n",
       "    </tr>\n",
       "  </thead>\n",
       "  <tbody>\n",
       "    <tr>\n",
       "      <th>0</th>\n",
       "      <td>1</td>\n",
       "      <td>Pirates of the Caribbean: At World's End</td>\n",
       "      <td>471220</td>\n",
       "      <td>7.1</td>\n",
       "      <td>169</td>\n",
       "      <td>309404152.0</td>\n",
       "      <td>Action|Adventure|Fantasy</td>\n",
       "    </tr>\n",
       "    <tr>\n",
       "      <th>1</th>\n",
       "      <td>2</td>\n",
       "      <td>Spectre</td>\n",
       "      <td>275868</td>\n",
       "      <td>6.8</td>\n",
       "      <td>148</td>\n",
       "      <td>200074175.0</td>\n",
       "      <td>Action|Adventure|Thriller</td>\n",
       "    </tr>\n",
       "    <tr>\n",
       "      <th>2</th>\n",
       "      <td>3</td>\n",
       "      <td>The Dark Knight Rises</td>\n",
       "      <td>1144337</td>\n",
       "      <td>8.5</td>\n",
       "      <td>164</td>\n",
       "      <td>448130642.0</td>\n",
       "      <td>Action|Thriller</td>\n",
       "    </tr>\n",
       "    <tr>\n",
       "      <th>3</th>\n",
       "      <td>4</td>\n",
       "      <td>John Carter</td>\n",
       "      <td>212204</td>\n",
       "      <td>6.6</td>\n",
       "      <td>132</td>\n",
       "      <td>73058679.0</td>\n",
       "      <td>Action|Adventure|Sci-Fi</td>\n",
       "    </tr>\n",
       "    <tr>\n",
       "      <th>4</th>\n",
       "      <td>5</td>\n",
       "      <td>Spider-Man 3</td>\n",
       "      <td>383056</td>\n",
       "      <td>6.2</td>\n",
       "      <td>156</td>\n",
       "      <td>336530303.0</td>\n",
       "      <td>Action|Adventure|Romance</td>\n",
       "    </tr>\n",
       "  </tbody>\n",
       "</table>\n",
       "</div>"
      ],
      "text/plain": [
       "   movieID                                       name  total_votes  rating  \\\n",
       "0        1  Pirates of the Caribbean: At World's End        471220     7.1   \n",
       "1        2                                   Spectre        275868     6.8   \n",
       "2        3                     The Dark Knight Rises       1144337     8.5   \n",
       "3        4                               John Carter        212204     6.6   \n",
       "4        5                              Spider-Man 3        383056     6.2   \n",
       "\n",
       "   duration  gross_earnings                      genre  \n",
       "0       169     309404152.0   Action|Adventure|Fantasy  \n",
       "1       148     200074175.0  Action|Adventure|Thriller  \n",
       "2       164     448130642.0            Action|Thriller  \n",
       "3       132      73058679.0    Action|Adventure|Sci-Fi  \n",
       "4       156     336530303.0   Action|Adventure|Romance  "
      ]
     },
     "execution_count": 1,
     "metadata": {},
     "output_type": "execute_result"
    }
   ],
   "source": [
    "import sqlite3\n",
    "import pandas as pd\n",
    "\n",
    "# Create your connection.\n",
    "cnx = sqlite3.connect('../db/movie_data.sqlite')\n",
    "df2 = pd.read_sql_query(\"SELECT * FROM movies\", cnx)\n",
    "df2.head()"
   ]
  },
  {
   "cell_type": "code",
   "execution_count": 2,
   "metadata": {},
   "outputs": [],
   "source": [
    "# Break up the big genre string into a string array\n",
    "df2['genre'] = df2['genre'].str.split('|')\n",
    "# Convert genres to string value\n",
    "df2['genre'] = df2['genre'].fillna(\"\").astype('str')"
   ]
  },
  {
   "cell_type": "code",
   "execution_count": 3,
   "metadata": {},
   "outputs": [],
   "source": [
    "from sklearn.feature_extraction.text import TfidfVectorizer\n",
    "from sklearn.metrics.pairwise import linear_kernel\n",
    "tf = TfidfVectorizer(analyzer='word',ngram_range=(1, 2),min_df=0, stop_words='english')\n",
    "tfidf_matrix = tf.fit_transform(df2['genre'])\n",
    "cosine_sim = linear_kernel(tfidf_matrix, tfidf_matrix)\n",
    "\n",
    "# Build a 1-dimensional array with movie titles\n",
    "titles = df2['name']\n",
    "indices = pd.Series(df2.index, index=df2['name'])\n",
    "\n",
    "# Function that get movie recommendations based on the cosine similarity score of movie genres\n",
    "def genre_recommendations(title):\n",
    "    newtitle = title + '\\xa0'\n",
    "    idx = indices[newtitle]\n",
    "    sim_scores = list(enumerate(cosine_sim[idx]))\n",
    "    sim_scores = sorted(sim_scores, key=lambda x: x[1], reverse=True)\n",
    "    sim_scores = sim_scores[1:21]\n",
    "    movie_indices = [i[0] for i in sim_scores]\n",
    "    return titles.iloc[movie_indices]"
   ]
  },
  {
   "cell_type": "code",
   "execution_count": 6,
   "metadata": {},
   "outputs": [
    {
     "data": {
      "text/plain": [
       "['Skyfall\\xa0',\n",
       " 'Mission: Impossible - Rogue Nation\\xa0',\n",
       " 'Mission: Impossible III\\xa0',\n",
       " 'Die Another Day\\xa0',\n",
       " 'Mission: Impossible - Ghost Protocol\\xa0',\n",
       " 'The World Is Not Enough\\xa0',\n",
       " 'The Bourne Legacy\\xa0',\n",
       " 'Mission: Impossible II\\xa0',\n",
       " \"Dante's Peak\\xa0\",\n",
       " 'Tomorrow Never Dies\\xa0',\n",
       " 'Live Free or Die Hard\\xa0',\n",
       " 'Casino Royale\\xa0',\n",
       " 'The Expendables 2\\xa0',\n",
       " 'The Expendables 3\\xa0',\n",
       " 'Die Hard with a Vengeance\\xa0',\n",
       " 'The Expendables\\xa0',\n",
       " 'Mission: Impossible\\xa0',\n",
       " 'The Rock\\xa0',\n",
       " 'xXx\\xa0',\n",
       " 'Space Cowboys\\xa0']"
      ]
     },
     "execution_count": 6,
     "metadata": {},
     "output_type": "execute_result"
    }
   ],
   "source": [
    "x = genre_recommendations('Spectre').head(20).tolist()\n",
    "x"
   ]
  },
  {
   "cell_type": "code",
   "execution_count": 5,
   "metadata": {},
   "outputs": [
    {
     "data": {
      "text/plain": [
       "\"Pirates of the Caribbean: At World's End\""
      ]
     },
     "execution_count": 5,
     "metadata": {},
     "output_type": "execute_result"
    }
   ],
   "source": [
    "df2['name'].iloc[0].replace('\\xa0', '')"
   ]
  },
  {
   "cell_type": "code",
   "execution_count": null,
   "metadata": {},
   "outputs": [],
   "source": []
  }
 ],
 "metadata": {
  "kernelspec": {
   "display_name": "Python 3",
   "language": "python",
   "name": "python3"
  },
  "language_info": {
   "codemirror_mode": {
    "name": "ipython",
    "version": 3
   },
   "file_extension": ".py",
   "mimetype": "text/x-python",
   "name": "python",
   "nbconvert_exporter": "python",
   "pygments_lexer": "ipython3",
   "version": "3.6.7"
  }
 },
 "nbformat": 4,
 "nbformat_minor": 2
}
