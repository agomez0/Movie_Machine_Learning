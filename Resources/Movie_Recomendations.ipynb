{
 "cells": [
  {
   "cell_type": "code",
   "execution_count": 1,
   "metadata": {},
   "outputs": [],
   "source": [
    "import pandas as pd\n",
    "import numpy as np\n",
    "import matplotlib.pyplot as plt\n",
    "\n",
    "# Reading ratings file\n",
    "# Ignore the timestamp column\n",
    "\n",
    "# Reading movies file\n",
    "df = pd.read_csv('../Resources/movie_metadata.csv',usecols=['movie_title', 'genres'])"
   ]
  },
  {
   "cell_type": "code",
   "execution_count": 2,
   "metadata": {},
   "outputs": [
    {
     "data": {
      "text/html": [
       "<div>\n",
       "<style scoped>\n",
       "    .dataframe tbody tr th:only-of-type {\n",
       "        vertical-align: middle;\n",
       "    }\n",
       "\n",
       "    .dataframe tbody tr th {\n",
       "        vertical-align: top;\n",
       "    }\n",
       "\n",
       "    .dataframe thead th {\n",
       "        text-align: right;\n",
       "    }\n",
       "</style>\n",
       "<table border=\"1\" class=\"dataframe\">\n",
       "  <thead>\n",
       "    <tr style=\"text-align: right;\">\n",
       "      <th></th>\n",
       "      <th>genres</th>\n",
       "      <th>movie_title</th>\n",
       "    </tr>\n",
       "  </thead>\n",
       "  <tbody>\n",
       "    <tr>\n",
       "      <th>0</th>\n",
       "      <td>['Action', 'Adventure', 'Fantasy', 'Sci-Fi']</td>\n",
       "      <td>Avatar</td>\n",
       "    </tr>\n",
       "    <tr>\n",
       "      <th>1</th>\n",
       "      <td>['Action', 'Adventure', 'Fantasy']</td>\n",
       "      <td>Pirates of the Caribbean: At World's End</td>\n",
       "    </tr>\n",
       "    <tr>\n",
       "      <th>2</th>\n",
       "      <td>['Action', 'Adventure', 'Thriller']</td>\n",
       "      <td>Spectre</td>\n",
       "    </tr>\n",
       "    <tr>\n",
       "      <th>3</th>\n",
       "      <td>['Action', 'Thriller']</td>\n",
       "      <td>The Dark Knight Rises</td>\n",
       "    </tr>\n",
       "    <tr>\n",
       "      <th>4</th>\n",
       "      <td>['Documentary']</td>\n",
       "      <td>Star Wars: Episode VII - The Force Awakens    ...</td>\n",
       "    </tr>\n",
       "  </tbody>\n",
       "</table>\n",
       "</div>"
      ],
      "text/plain": [
       "                                         genres  \\\n",
       "0  ['Action', 'Adventure', 'Fantasy', 'Sci-Fi']   \n",
       "1            ['Action', 'Adventure', 'Fantasy']   \n",
       "2           ['Action', 'Adventure', 'Thriller']   \n",
       "3                        ['Action', 'Thriller']   \n",
       "4                               ['Documentary']   \n",
       "\n",
       "                                         movie_title  \n",
       "0                                            Avatar   \n",
       "1          Pirates of the Caribbean: At World's End   \n",
       "2                                           Spectre   \n",
       "3                             The Dark Knight Rises   \n",
       "4  Star Wars: Episode VII - The Force Awakens    ...  "
      ]
     },
     "execution_count": 2,
     "metadata": {},
     "output_type": "execute_result"
    }
   ],
   "source": [
    "# Break up the big genre string into a string array\n",
    "df['genres'] = df['genres'].str.split('|')\n",
    "# Convert genres to string value\n",
    "df['genres'] = df['genres'].fillna(\"\").astype('str')\n",
    "df.head()"
   ]
  },
  {
   "cell_type": "code",
   "execution_count": 3,
   "metadata": {},
   "outputs": [
    {
     "data": {
      "text/plain": [
       "(5043, 206)"
      ]
     },
     "execution_count": 3,
     "metadata": {},
     "output_type": "execute_result"
    }
   ],
   "source": [
    "from sklearn.feature_extraction.text import TfidfVectorizer\n",
    "tf = TfidfVectorizer(analyzer='word',ngram_range=(1, 2),min_df=0, stop_words='english')\n",
    "tfidf_matrix = tf.fit_transform(df['genres'])\n",
    "tfidf_matrix.shape"
   ]
  },
  {
   "cell_type": "code",
   "execution_count": 4,
   "metadata": {},
   "outputs": [
    {
     "data": {
      "text/plain": [
       "array([[1.        , 0.71772763, 0.29121259, 0.0816324 ],\n",
       "       [0.71772763, 1.        , 0.40574248, 0.11373729],\n",
       "       [0.29121259, 0.40574248, 1.        , 0.20751026],\n",
       "       [0.0816324 , 0.11373729, 0.20751026, 1.        ]])"
      ]
     },
     "execution_count": 4,
     "metadata": {},
     "output_type": "execute_result"
    }
   ],
   "source": [
    "from sklearn.metrics.pairwise import linear_kernel\n",
    "cosine_sim = linear_kernel(tfidf_matrix, tfidf_matrix)\n",
    "cosine_sim[:4, :4]"
   ]
  },
  {
   "cell_type": "code",
   "execution_count": 5,
   "metadata": {},
   "outputs": [],
   "source": [
    "# Build a 1-dimensional array with movie titles\n",
    "titles = df['movie_title']\n",
    "indices = pd.Series(df.index, index=df['movie_title'])\n",
    "\n",
    "# Function that get movie recommendations based on the cosine similarity score of movie genres\n",
    "def genre_recommendations(title):\n",
    "    newtitle = title + '\\xa0'\n",
    "    idx = indices[newtitle]\n",
    "    sim_scores = list(enumerate(cosine_sim[idx]))\n",
    "    sim_scores = sorted(sim_scores, key=lambda x: x[1], reverse=True)\n",
    "    sim_scores = sim_scores[1:21]\n",
    "    movie_indices = [i[0] for i in sim_scores]\n",
    "    return titles.iloc[movie_indices]"
   ]
  },
  {
   "cell_type": "code",
   "execution_count": 6,
   "metadata": {},
   "outputs": [
    {
     "data": {
      "text/plain": [
       "15                                        Man of Steel \n",
       "39                            The Amazing Spider-Man 2 \n",
       "236       Star Wars: Episode III - Revenge of the Sith \n",
       "237       Star Wars: Episode II - Attack of the Clones \n",
       "240          Star Wars: Episode I - The Phantom Menace \n",
       "520              The League of Extraordinary Gentlemen \n",
       "1536        Star Wars: Episode VI - Return of the Jedi \n",
       "2051    Star Wars: Episode V - The Empire Strikes Back \n",
       "2687                               Highlander: Endgame \n",
       "3024                Star Wars: Episode IV - A New Hope \n",
       "3634         Beastmaster 2: Through the Portal of Time \n",
       "4690                                           Destiny \n",
       "34                               X-Men: The Last Stand \n",
       "47                          X-Men: Days of Future Past \n",
       "123                           X-Men Origins: Wolverine \n",
       "210                                            X-Men 2 \n",
       "769                                      Reign of Fire \n",
       "1145                             Underworld: Evolution \n",
       "1432                    Underworld: Rise of the Lycans \n",
       "1660                       Mortal Kombat: Annihilation \n",
       "Name: movie_title, dtype: object"
      ]
     },
     "execution_count": 6,
     "metadata": {},
     "output_type": "execute_result"
    }
   ],
   "source": [
    "genre_recommendations('Avatar').head(20)"
   ]
  },
  {
   "cell_type": "code",
   "execution_count": null,
   "metadata": {},
   "outputs": [],
   "source": []
  },
  {
   "cell_type": "code",
   "execution_count": 10,
   "metadata": {},
   "outputs": [
    {
     "data": {
      "text/html": [
       "<div>\n",
       "<style scoped>\n",
       "    .dataframe tbody tr th:only-of-type {\n",
       "        vertical-align: middle;\n",
       "    }\n",
       "\n",
       "    .dataframe tbody tr th {\n",
       "        vertical-align: top;\n",
       "    }\n",
       "\n",
       "    .dataframe thead th {\n",
       "        text-align: right;\n",
       "    }\n",
       "</style>\n",
       "<table border=\"1\" class=\"dataframe\">\n",
       "  <thead>\n",
       "    <tr style=\"text-align: right;\">\n",
       "      <th></th>\n",
       "      <th>movieID_x</th>\n",
       "      <th>name</th>\n",
       "      <th>total_votes</th>\n",
       "      <th>rating</th>\n",
       "      <th>duration</th>\n",
       "      <th>gross_earnings</th>\n",
       "      <th>genre</th>\n",
       "      <th>movieID_y</th>\n",
       "      <th>image</th>\n",
       "    </tr>\n",
       "  </thead>\n",
       "  <tbody>\n",
       "    <tr>\n",
       "      <th>0</th>\n",
       "      <td>1</td>\n",
       "      <td>Avatar</td>\n",
       "      <td>886204</td>\n",
       "      <td>7.9</td>\n",
       "      <td>178</td>\n",
       "      <td>760505847</td>\n",
       "      <td>Action|Adventure|Fantasy|Sci-Fi</td>\n",
       "      <td>1</td>\n",
       "      <td>https://m.media-amazon.com/images/M/MV5BMTYwOT...</td>\n",
       "    </tr>\n",
       "    <tr>\n",
       "      <th>1</th>\n",
       "      <td>2</td>\n",
       "      <td>Pirates of the Caribbean: At World's End</td>\n",
       "      <td>471220</td>\n",
       "      <td>7.1</td>\n",
       "      <td>169</td>\n",
       "      <td>309404152</td>\n",
       "      <td>Action|Adventure|Fantasy</td>\n",
       "      <td>2</td>\n",
       "      <td>https://m.media-amazon.com/images/M/MV5BMjIyNj...</td>\n",
       "    </tr>\n",
       "    <tr>\n",
       "      <th>2</th>\n",
       "      <td>3</td>\n",
       "      <td>Spectre</td>\n",
       "      <td>275868</td>\n",
       "      <td>6.8</td>\n",
       "      <td>148</td>\n",
       "      <td>200074175</td>\n",
       "      <td>Action|Adventure|Thriller</td>\n",
       "      <td>3</td>\n",
       "      <td>https://m.media-amazon.com/images/M/MV5BOWQ1MD...</td>\n",
       "    </tr>\n",
       "    <tr>\n",
       "      <th>3</th>\n",
       "      <td>4</td>\n",
       "      <td>The Dark Knight Rises</td>\n",
       "      <td>1144337</td>\n",
       "      <td>8.5</td>\n",
       "      <td>164</td>\n",
       "      <td>448130642</td>\n",
       "      <td>Action|Thriller</td>\n",
       "      <td>4</td>\n",
       "      <td>https://m.media-amazon.com/images/M/MV5BMTk4OD...</td>\n",
       "    </tr>\n",
       "    <tr>\n",
       "      <th>4</th>\n",
       "      <td>5</td>\n",
       "      <td>John Carter</td>\n",
       "      <td>212204</td>\n",
       "      <td>6.6</td>\n",
       "      <td>132</td>\n",
       "      <td>73058679</td>\n",
       "      <td>Action|Adventure|Sci-Fi</td>\n",
       "      <td>6</td>\n",
       "      <td>https://m.media-amazon.com/images/M/MV5BMDEwZm...</td>\n",
       "    </tr>\n",
       "  </tbody>\n",
       "</table>\n",
       "</div>"
      ],
      "text/plain": [
       "   movieID_x                                      name  total_votes  rating  \\\n",
       "0          1                                    Avatar       886204     7.9   \n",
       "1          2  Pirates of the Caribbean: At World's End       471220     7.1   \n",
       "2          3                                   Spectre       275868     6.8   \n",
       "3          4                     The Dark Knight Rises      1144337     8.5   \n",
       "4          5                               John Carter       212204     6.6   \n",
       "\n",
       "   duration  gross_earnings                            genre  movieID_y  \\\n",
       "0       178       760505847  Action|Adventure|Fantasy|Sci-Fi          1   \n",
       "1       169       309404152         Action|Adventure|Fantasy          2   \n",
       "2       148       200074175        Action|Adventure|Thriller          3   \n",
       "3       164       448130642                  Action|Thriller          4   \n",
       "4       132        73058679          Action|Adventure|Sci-Fi          6   \n",
       "\n",
       "                                               image  \n",
       "0  https://m.media-amazon.com/images/M/MV5BMTYwOT...  \n",
       "1  https://m.media-amazon.com/images/M/MV5BMjIyNj...  \n",
       "2  https://m.media-amazon.com/images/M/MV5BOWQ1MD...  \n",
       "3  https://m.media-amazon.com/images/M/MV5BMTk4OD...  \n",
       "4  https://m.media-amazon.com/images/M/MV5BMDEwZm...  "
      ]
     },
     "execution_count": 10,
     "metadata": {},
     "output_type": "execute_result"
    }
   ],
   "source": [
    "import sqlite3\n",
    "import pandas as pd\n",
    "\n",
    "# Create your connection.\n",
    "cnx = sqlite3.connect('../db/allmoviedata.sqlite')\n",
    "df_movie = pd.read_sql_query(\"SELECT * FROM new_data\", cnx)\n",
    "df_img = pd.read_sql_query(\"SELECT * FROM new_images\", cnx)\n",
    "df2 = pd.merge(df_movie, df_img, on='name')\n",
    "# df2 = df2.drop_duplicates(subset=\"name\")\n",
    "df2.head()"
   ]
  },
  {
   "cell_type": "code",
   "execution_count": 11,
   "metadata": {},
   "outputs": [],
   "source": [
    "# Break up the big genre string into a string array\n",
    "df2['genre'] = df2['genre'].str.split('|')\n",
    "# Convert genres to string value\n",
    "df2['genre'] = df2['genre'].fillna(\"\").astype('str')"
   ]
  },
  {
   "cell_type": "code",
   "execution_count": 12,
   "metadata": {},
   "outputs": [
    {
     "data": {
      "text/plain": [
       "name\n",
       "Avatar                                            0\n",
       "Pirates of the Caribbean: At World's End          1\n",
       "Spectre                                           2\n",
       "The Dark Knight Rises                             3\n",
       "John Carter                                       4\n",
       "Spider-Man 3                                      5\n",
       "Spider-Man 3                                      6\n",
       "Spider-Man 3                                      7\n",
       "Spider-Man 3                                      8\n",
       "Tangled                                           9\n",
       "Avengers: Age of Ultron                          10\n",
       "Harry Potter and the Half-Blood Prince           11\n",
       "Batman v Superman: Dawn of Justice               12\n",
       "Superman Returns                                 13\n",
       "Quantum of Solace                                14\n",
       "Pirates of the Caribbean: Dead Man's Chest       15\n",
       "The Lone Ranger                                  16\n",
       "Man of Steel                                     17\n",
       "The Chronicles of Narnia: Prince Caspian         18\n",
       "The Avengers                                     19\n",
       "The Avengers                                     20\n",
       "The Avengers                                     21\n",
       "The Avengers                                     22\n",
       "Pirates of the Caribbean: On Stranger Tides      23\n",
       "Men in Black 3                                   24\n",
       "The Hobbit: The Battle of the Five Armies        25\n",
       "The Amazing Spider-Man                           26\n",
       "Robin Hood                                       27\n",
       "The Hobbit: The Desolation of Smaug              28\n",
       "The Golden Compass                               29\n",
       "                                               ... \n",
       "Manito                                         5266\n",
       "Rampage                                        5267\n",
       "Slacker                                        5268\n",
       "Dutch Kills                                    5269\n",
       "Dry Spell                                      5270\n",
       "Flywheel                                       5271\n",
       "Exeter                                         5272\n",
       "The Ridges                                     5273\n",
       "The Puffy Chair                                5274\n",
       "Stories of Our Lives                           5275\n",
       "Breaking Upwards                               5276\n",
       "All Superheroes Must Die                       5277\n",
       "Pink Flamingos                                 5278\n",
       "Clean                                          5279\n",
       "The Circle                                     5280\n",
       "Tin Can Man                                    5281\n",
       "The Cure                                       5282\n",
       "On the Downlow                                 5283\n",
       "Sanctuary; Quite a Conundrum                   5284\n",
       "Bang                                           5285\n",
       "Primer                                         5286\n",
       "Cavite                                         5287\n",
       "El Mariachi                                    5288\n",
       "The Mongol King                                5289\n",
       "Newlyweds                                      5290\n",
       "Signed Sealed Delivered                        5291\n",
       "The Following                                  5292\n",
       "A Plague So Pleasant                           5293\n",
       "Shanghai Calling                               5294\n",
       "My Date with Drew                              5295\n",
       "Length: 5296, dtype: int64"
      ]
     },
     "execution_count": 12,
     "metadata": {},
     "output_type": "execute_result"
    }
   ],
   "source": [
    "from sklearn.feature_extraction.text import TfidfVectorizer\n",
    "from sklearn.metrics.pairwise import linear_kernel\n",
    "tf = TfidfVectorizer(analyzer='word',ngram_range=(1, 2),min_df=0, stop_words='english')\n",
    "tfidf_matrix = tf.fit_transform(df2['genre'])\n",
    "cosine_sim = linear_kernel(tfidf_matrix, tfidf_matrix)\n",
    "\n",
    "# Build a 1-dimensional array with movie titles\n",
    "titles = df2['name']\n",
    "indices = pd.Series(df2.index, index=df2['name'])\n",
    "\n",
    "# Function that get movie recommendations based on the cosine similarity score of movie genres\n",
    "def genre_recommendations(title):\n",
    "    newtitle = title\n",
    "    idx = indices[newtitle]\n",
    "    sim_scores = list(enumerate(cosine_sim[idx]))\n",
    "    sim_scores = sorted(sim_scores, key=lambda x: x[1], reverse=True)\n",
    "    sim_scores = sim_scores[1:21]\n",
    "    movie_indices = [i[0] for i in sim_scores]\n",
    "    return titles.iloc[movie_indices]\n",
    "\n",
    "indices"
   ]
  },
  {
   "cell_type": "code",
   "execution_count": 4,
   "metadata": {},
   "outputs": [
    {
     "data": {
      "text/plain": [
       "['Avengers: Age of Ultron',\n",
       " 'Batman v Superman: Dawn of Justice',\n",
       " 'Superman Returns',\n",
       " 'The Avengers',\n",
       " 'Captain America: Civil War',\n",
       " 'Iron Man 3',\n",
       " 'Transformers: Revenge of the Fallen',\n",
       " 'Transformers: Age of Extinction',\n",
       " 'TRON: Legacy',\n",
       " 'Green Lantern',\n",
       " 'Terminator Salvation',\n",
       " 'Star Trek Into Darkness',\n",
       " 'Pacific Rim',\n",
       " 'Transformers: Dark of the Moon',\n",
       " '2012',\n",
       " 'Jupiter Ascending',\n",
       " 'X-Men: Apocalypse',\n",
       " 'Iron Man']"
      ]
     },
     "execution_count": 4,
     "metadata": {},
     "output_type": "execute_result"
    }
   ],
   "source": [
    "x = genre_recommendations('The Polar Express').head(18).tolist()\n",
    "x"
   ]
  },
  {
   "cell_type": "code",
   "execution_count": null,
   "metadata": {},
   "outputs": [],
   "source": []
  }
 ],
 "metadata": {
  "kernelspec": {
   "display_name": "Python 3",
   "language": "python",
   "name": "python3"
  },
  "language_info": {
   "codemirror_mode": {
    "name": "ipython",
    "version": 3
   },
   "file_extension": ".py",
   "mimetype": "text/x-python",
   "name": "python",
   "nbconvert_exporter": "python",
   "pygments_lexer": "ipython3",
   "version": "3.6.7"
  }
 },
 "nbformat": 4,
 "nbformat_minor": 2
}
